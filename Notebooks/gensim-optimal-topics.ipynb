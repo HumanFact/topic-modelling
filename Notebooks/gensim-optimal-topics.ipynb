{
 "cells": [
  {
   "cell_type": "markdown",
   "metadata": {},
   "source": [
    "# How to find the optimal number of topics for LDA?\n",
    "\n",
    "My approach to finding the optimal number of topics is to build many LDA models with different values of number of topics (k) and pick the one that gives the highest coherence value.\n",
    "\n",
    "Based on [Gensim Topic Modeling](https://www.machinelearningplus.com/nlp/topic-modeling-gensim-python/)"
   ]
  },
  {
   "cell_type": "code",
   "execution_count": 16,
   "metadata": {},
   "outputs": [
    {
     "name": "stdout",
     "output_type": "stream",
     "text": [
      "Python Version: 2.7.15 | packaged by conda-forge | (default, Feb 28 2019, 04:00:11) \n",
      "[GCC 7.3.0]\n"
     ]
    }
   ],
   "source": [
    "import os\n",
    "import sys\n",
    "import matplotlib.pyplot as plt\n",
    "import gensim\n",
    "import pyLDAvis\n",
    "import pyLDAvis.gensim\n",
    "\n",
    "from gensim import corpora\n",
    "from gensim import models\n",
    "from gensim.models.coherencemodel import CoherenceModel\n",
    "\n",
    "print('Python Version: %s' % (sys.version))\n",
    "%matplotlib inline"
   ]
  },
  {
   "cell_type": "code",
   "execution_count": 9,
   "metadata": {},
   "outputs": [
    {
     "name": "stdout",
     "output_type": "stream",
     "text": [
      "Dictionary(7714 unique tokens: [u'francesco', u'csuci', u'univesidad', u'sation', u'efimenko']...)\n",
      "MmCorpus(4 documents, 7714 features, 10760 non-zero entries)\n",
      "LdaModel(num_terms=7714, num_topics=20, decay=0.5, chunksize=100)\n",
      "<gensim.models.wrappers.ldamallet.LdaMallet object at 0x7fb7f8d13410>\n"
     ]
    }
   ],
   "source": [
    "dictionary = corpora.Dictionary.load('documents.dict')\n",
    "corpus = corpora.MmCorpus('documents.mm')\n",
    "lda_model = models.LdaModel.load('lda_model')\n",
    "ldamallet = models.wrappers.LdaMallet.load('ldamallet')\n",
    "\n",
    "print(dictionary)\n",
    "print(corpus)\n",
    "print(lda_model)\n",
    "print(ldamallet)"
   ]
  },
  {
   "cell_type": "code",
   "execution_count": 4,
   "metadata": {},
   "outputs": [],
   "source": [
    "import os\n",
    "import sys\n",
    "import matplotlib\n",
    "import gensim\n",
    "import pyLDAvis\n",
    "import pyLDAvis.gensim\n",
    "\n",
    "from gensim import corpora\n",
    "from gensim import models\n",
    "from gensim.models.coherencemodel import CoherenceModel\n",
    "\n",
    "print('Python Version: %s' % (sys.version))"
   ]
  },
  {
   "cell_type": "markdown",
   "metadata": {},
   "source": [
    "Choosing a ‘k’ that marks the end of a rapid growth of topic coherence usually offers meaningful and interpretable topics. Picking an even higher value can sometimes provide more granular sub-topics.\n",
    "\n",
    "If you see the same keywords being repeated in multiple topics, it’s probably a sign that the ‘k’ is too large.\n",
    "\n",
    "The `compute_coherence_values()` (see below) trains multiple LDA models and provides the models and their corresponding coherence scores."
   ]
  },
  {
   "cell_type": "code",
   "execution_count": 13,
   "metadata": {},
   "outputs": [],
   "source": [
    "def compute_coherence_values(dictionary, corpus, texts, limit, start=2, step=3):\n",
    "    \"\"\"\n",
    "    Compute c_v coherence for various number of topics\n",
    "\n",
    "    Parameters:\n",
    "    ----------\n",
    "    dictionary : Gensim dictionary\n",
    "    corpus : Gensim corpus\n",
    "    texts : List of input texts\n",
    "    limit : Max num of topics\n",
    "\n",
    "    Returns:\n",
    "    -------\n",
    "    model_list : List of LDA topic models\n",
    "    coherence_values : Coherence values corresponding to the LDA model with respective number of topics\n",
    "    \"\"\"\n",
    "    coherence_values = []\n",
    "    model_list = []\n",
    "    for num_topics in range(start, limit, step):\n",
    "        model = gensim.models.wrappers.LdaMallet(mallet_path, \n",
    "                                                 corpus=corpus, \n",
    "                                                 num_topics=num_topics, \n",
    "                                                 id2word=dictionary)\n",
    "        model_list.append(model)\n",
    "        coherencemodel = CoherenceModel(model=model, texts=texts, dictionary=dictionary, coherence='c_v')\n",
    "        coherence_values.append(coherencemodel.get_coherence())\n",
    "\n",
    "    return model_list, coherence_values"
   ]
  },
  {
   "cell_type": "code",
   "execution_count": 10,
   "metadata": {},
   "outputs": [],
   "source": [
    "mallet_path = 'mallet-2.0.8/bin/mallet' # update this path"
   ]
  },
  {
   "cell_type": "code",
   "execution_count": 14,
   "metadata": {},
   "outputs": [],
   "source": [
    "# Can take a long time to run.\n",
    "model_list, coherence_values = compute_coherence_values(dictionary=dictionary, \n",
    "                                                        corpus=corpus, \n",
    "                                                        texts=documents, \n",
    "                                                        start=2, limit=40, step=6)"
   ]
  },
  {
   "cell_type": "code",
   "execution_count": 17,
   "metadata": {},
   "outputs": [
    {
     "data": {
      "image/png": "[encoded data removed]",
      "text/plain": [
       "<Figure size 432x288 with 1 Axes>"
      ]
     },
     "metadata": {
      "needs_background": "light"
     },
     "output_type": "display_data"
    }
   ],
   "source": [
    "# Show graph\n",
    "limit=40; start=2; step=6;\n",
    "x = range(start, limit, step)\n",
    "plt.plot(x, coherence_values)\n",
    "plt.xlabel(\"Num Topics\")\n",
    "plt.ylabel(\"Coherence score\")\n",
    "plt.legend((\"coherence_values\"), loc='best')\n",
    "plt.show()"
   ]
  },
  {
   "cell_type": "code",
   "execution_count": 21,
   "metadata": {},
   "outputs": [
    {
     "name": "stdout",
     "output_type": "stream",
     "text": [
      "('Model number: ', 0, 'Num Topics =', 2, ' has Coherence Value of', 0.5225)\n",
      "('Model number: ', 1, 'Num Topics =', 8, ' has Coherence Value of', 0.6384)\n",
      "('Model number: ', 2, 'Num Topics =', 14, ' has Coherence Value of', 0.5763)\n",
      "('Model number: ', 3, 'Num Topics =', 20, ' has Coherence Value of', 0.5218)\n",
      "('Model number: ', 4, 'Num Topics =', 26, ' has Coherence Value of', 0.517)\n",
      "('Model number: ', 5, 'Num Topics =', 32, ' has Coherence Value of', 0.4627)\n",
      "('Model number: ', 6, 'Num Topics =', 38, ' has Coherence Value of', 0.4542)\n"
     ]
    }
   ],
   "source": [
    "# Print the coherence scores\n",
    "count = 0\n",
    "for m, cv in zip(x, coherence_values):\n",
    "    print('Model number: ', count, \"Num Topics =\", m, \" has Coherence Value of\", round(cv, 4))\n",
    "    count += 1"
   ]
  },
  {
   "cell_type": "code",
   "execution_count": 28,
   "metadata": {},
   "outputs": [
    {
     "data": {
      "text/plain": [
       "[(0,\n",
       "  u'0.046*\"para\" + 0.031*\"aprendizagem\" + 0.020*\"ncia\" + 0.018*\"universidad\" + 0.018*\"tecnologia\" + 0.017*\"como\" + 0.016*\"rio\" + 0.014*\"mai\" + 0.011*\"seu\" + 0.010*\"educa\"'),\n",
       " (1,\n",
       "  u'0.075*\"learn\" + 0.034*\"univers\" + 0.028*\"technolog\" + 0.027*\"educ\" + 0.022*\"www\" + 0.022*\"nmc\" + 0.021*\"org\" + 0.018*\"digit\" + 0.018*\"institut\" + 0.015*\"onlin\"'),\n",
       " (2,\n",
       "  u'0.059*\"institut\" + 0.051*\"teach\" + 0.051*\"learn\" + 0.029*\"univers\" + 0.018*\"european\" + 0.014*\"student\" + 0.014*\"staff\" + 0.013*\"programm\" + 0.012*\"higher\" + 0.012*\"cours\"'),\n",
       " (3,\n",
       "  u'0.041*\"student\" + 0.034*\"http\" + 0.015*\"higher\" + 0.013*\"develop\" + 0.012*\"base\" + 0.012*\"research\" + 0.012*\"access\" + 0.011*\"challeng\" + 0.011*\"design\" + 0.010*\"project\"'),\n",
       " (4,\n",
       "  u'0.064*\"educ\" + 0.026*\"higher\" + 0.018*\"trend\" + 0.016*\"develop\" + 0.014*\"teach\" + 0.014*\"approach\" + 0.013*\"report\" + 0.012*\"state\" + 0.010*\"collabor\" + 0.009*\"role\"'),\n",
       " (5,\n",
       "  u'0.034*\"uma\" + 0.027*\"nmc\" + 0.021*\"est\" + 0.018*\"org\" + 0.014*\"ensino\" + 0.011*\"brasileira\" + 0.011*\"www\" + 0.010*\"educacion\" + 0.009*\"ado\" + 0.008*\"important\"'),\n",
       " (6,\n",
       "  u'0.083*\"innov\" + 0.056*\"educ\" + 0.035*\"oecd\" + 0.031*\"figur\" + 0.030*\"chang\" + 0.029*\"level\" + 0.028*\"grade\" + 0.024*\"student\" + 0.019*\"averag\" + 0.019*\"signific\"'),\n",
       " (7,\n",
       "  u'0.058*\"chang\" + 0.052*\"point\" + 0.041*\"countri\" + 0.036*\"school\" + 0.035*\"teacher\" + 0.029*\"effect\" + 0.027*\"scienc\" + 0.021*\"org\" + 0.019*\"http\" + 0.016*\"time\"')]"
      ]
     },
     "execution_count": 28,
     "metadata": {},
     "output_type": "execute_result"
    }
   ],
   "source": [
    "# Select the model and print the topics\n",
    "optimal_model = model_list[1]\n",
    "model_topics = optimal_model.show_topics(formatted=False)\n",
    "optimal_model.print_topics(num_words=10)"
   ]
  },
  {
   "cell_type": "code",
   "execution_count": 29,
   "metadata": {},
   "outputs": [],
   "source": [
    "optimal_model.save('optimal_model')"
   ]
  }
 ],
 "metadata": {
  "kernelspec": {
   "display_name": "Python [conda env:textract]",
   "language": "python",
   "name": "conda-env-textract-py"
  },
  "language_info": {
   "codemirror_mode": {
    "name": "ipython",
    "version": 2
   },
   "file_extension": ".py",
   "mimetype": "text/x-python",
   "name": "python",
   "nbconvert_exporter": "python",
   "pygments_lexer": "ipython2",
   "version": "2.7.15"
  }
 },
 "nbformat": 4,
 "nbformat_minor": 2
}
